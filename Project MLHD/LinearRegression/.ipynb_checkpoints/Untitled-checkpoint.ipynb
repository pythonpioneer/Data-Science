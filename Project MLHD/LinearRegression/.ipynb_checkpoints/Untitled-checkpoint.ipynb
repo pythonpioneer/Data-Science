{
 "cells": [
  {
   "cell_type": "markdown",
   "id": "3dfec179",
   "metadata": {},
   "source": [
    "## Linear regression"
   ]
  },
  {
   "cell_type": "code",
   "execution_count": 1,
   "id": "2024006e",
   "metadata": {},
   "outputs": [],
   "source": [
    "# here we are going to implement linear regression"
   ]
  },
  {
   "cell_type": "code",
   "execution_count": 31,
   "id": "55c799bb",
   "metadata": {},
   "outputs": [],
   "source": [
    "import numpy as np\n",
    "import pandas as pd\n",
    "import seaborn as sns\n",
    "import matplotlib.pyplot as plt\n",
    "import os\n",
    "global _path_nonull, _path_withmean\n",
    "\n",
    "_path_nonull = os.path.dirname(os.getcwd()) + '/no null/no-null-horse-details.csv'\n",
    "_path_withmean = os.path.dirname(os.getcwd()) + '/no null/with-mean-horse-details.csv'"
   ]
  },
  {
   "cell_type": "code",
   "execution_count": 32,
   "id": "9c891eb1",
   "metadata": {},
   "outputs": [],
   "source": [
    "hd_nonull = pd.read_csv(_path_nonull)  # data with no null values\n",
    "hd_withmean = pd.read_csv(_path_withmean)  # data with mean in place on null values"
   ]
  },
  {
   "cell_type": "code",
   "execution_count": 33,
   "id": "7fe5e7ba",
   "metadata": {},
   "outputs": [
    {
     "data": {
      "text/plain": [
       "''"
      ]
     },
     "execution_count": 33,
     "metadata": {},
     "output_type": "execute_result"
    }
   ],
   "source": [
    "''' we are impleamenting linear regression and \n",
    "in which there are two variables independent-variable(x) and \n",
    "dependent variable(y) '''\n",
    "''"
   ]
  },
  {
   "cell_type": "code",
   "execution_count": 34,
   "id": "ae449036",
   "metadata": {},
   "outputs": [
    {
     "data": {
      "text/html": [
       "<div>\n",
       "<style scoped>\n",
       "    .dataframe tbody tr th:only-of-type {\n",
       "        vertical-align: middle;\n",
       "    }\n",
       "\n",
       "    .dataframe tbody tr th {\n",
       "        vertical-align: top;\n",
       "    }\n",
       "\n",
       "    .dataframe thead th {\n",
       "        text-align: right;\n",
       "    }\n",
       "</style>\n",
       "<table border=\"1\" class=\"dataframe\">\n",
       "  <thead>\n",
       "    <tr style=\"text-align: right;\">\n",
       "      <th></th>\n",
       "      <th>Unnamed: 0</th>\n",
       "      <th>Serial no.</th>\n",
       "      <th>Horse id</th>\n",
       "      <th>Horse-Gender</th>\n",
       "      <th>Horse-Height</th>\n",
       "      <th>Horse-Weight</th>\n",
       "      <th>Racer-Horse</th>\n",
       "    </tr>\n",
       "  </thead>\n",
       "  <tbody>\n",
       "    <tr>\n",
       "      <th>0</th>\n",
       "      <td>1</td>\n",
       "      <td>2</td>\n",
       "      <td>H2</td>\n",
       "      <td>F</td>\n",
       "      <td>56.0</td>\n",
       "      <td>522.0</td>\n",
       "      <td>No</td>\n",
       "    </tr>\n",
       "    <tr>\n",
       "      <th>1</th>\n",
       "      <td>6</td>\n",
       "      <td>7</td>\n",
       "      <td>H7</td>\n",
       "      <td>F</td>\n",
       "      <td>68.0</td>\n",
       "      <td>975.0</td>\n",
       "      <td>Yes</td>\n",
       "    </tr>\n",
       "    <tr>\n",
       "      <th>2</th>\n",
       "      <td>9</td>\n",
       "      <td>10</td>\n",
       "      <td>H10</td>\n",
       "      <td>M</td>\n",
       "      <td>65.0</td>\n",
       "      <td>862.0</td>\n",
       "      <td>Yes</td>\n",
       "    </tr>\n",
       "    <tr>\n",
       "      <th>3</th>\n",
       "      <td>14</td>\n",
       "      <td>15</td>\n",
       "      <td>H15</td>\n",
       "      <td>F</td>\n",
       "      <td>57.0</td>\n",
       "      <td>514.0</td>\n",
       "      <td>No</td>\n",
       "    </tr>\n",
       "    <tr>\n",
       "      <th>4</th>\n",
       "      <td>19</td>\n",
       "      <td>20</td>\n",
       "      <td>H20</td>\n",
       "      <td>F</td>\n",
       "      <td>29.0</td>\n",
       "      <td>211.0</td>\n",
       "      <td>Yes</td>\n",
       "    </tr>\n",
       "  </tbody>\n",
       "</table>\n",
       "</div>"
      ],
      "text/plain": [
       "   Unnamed: 0  Serial no. Horse id Horse-Gender  Horse-Height  Horse-Weight  \\\n",
       "0           1           2       H2            F          56.0         522.0   \n",
       "1           6           7       H7            F          68.0         975.0   \n",
       "2           9          10      H10            M          65.0         862.0   \n",
       "3          14          15      H15            F          57.0         514.0   \n",
       "4          19          20      H20            F          29.0         211.0   \n",
       "\n",
       "  Racer-Horse  \n",
       "0          No  \n",
       "1         Yes  \n",
       "2         Yes  \n",
       "3          No  \n",
       "4         Yes  "
      ]
     },
     "execution_count": 34,
     "metadata": {},
     "output_type": "execute_result"
    }
   ],
   "source": [
    "hd_nonull.head()"
   ]
  },
  {
   "cell_type": "code",
   "execution_count": 35,
   "id": "c3d277b9",
   "metadata": {},
   "outputs": [],
   "source": [
    "# extracting independent and dependent variable for no-null dataset\n",
    "x_nonull = hd_nonull.loc[:,'Horse-Height']  # predictor\n",
    "y_nonull = hd_nonull.loc[:, 'Horse-Weight']  # predicted value"
   ]
  },
  {
   "cell_type": "code",
   "execution_count": 36,
   "id": "c6f682e5",
   "metadata": {},
   "outputs": [
    {
     "data": {
      "text/plain": [
       "0        605.18653\n",
       "1        522.00000\n",
       "2        605.18653\n",
       "3        686.00000\n",
       "4        605.18653\n",
       "           ...    \n",
       "94275    636.00000\n",
       "94276    495.00000\n",
       "94277    380.00000\n",
       "94278    590.00000\n",
       "94279    605.18653\n",
       "Name: Horse-Weight, Length: 94280, dtype: float64"
      ]
     },
     "execution_count": 36,
     "metadata": {},
     "output_type": "execute_result"
    }
   ],
   "source": [
    "# extracting independent and dependent variable for with-mean dataset\n",
    "x_withmean = hd_withmean.loc[:,'Horse-Height']  # predictor\n",
    "y_withmean = hd_withmean.loc[:, 'Horse-Weight']  # predicted value\n",
    "y_withmean"
   ]
  },
  {
   "cell_type": "markdown",
   "id": "fc6989fd",
   "metadata": {},
   "source": [
    "### now visulaizing our data"
   ]
  },
  {
   "cell_type": "code",
   "execution_count": 53,
   "id": "ebfb9d7f",
   "metadata": {},
   "outputs": [
    {
     "name": "stderr",
     "output_type": "stream",
     "text": [
      "/Library/Frameworks/Python.framework/Versions/3.10/lib/python3.10/site-packages/seaborn/distributions.py:2619: FutureWarning: `distplot` is a deprecated function and will be removed in a future version. Please adapt your code to use either `displot` (a figure-level function with similar flexibility) or `histplot` (an axes-level function for histograms).\n",
      "  warnings.warn(msg, FutureWarning)\n",
      "/Library/Frameworks/Python.framework/Versions/3.10/lib/python3.10/site-packages/seaborn/distributions.py:2619: FutureWarning: `distplot` is a deprecated function and will be removed in a future version. Please adapt your code to use either `displot` (a figure-level function with similar flexibility) or `histplot` (an axes-level function for histograms).\n",
      "  warnings.warn(msg, FutureWarning)\n"
     ]
    },
    {
     "data": {
      "text/plain": [
       "<AxesSubplot:xlabel='Horse-Height', ylabel='Density'>"
      ]
     },
     "execution_count": 53,
     "metadata": {},
     "output_type": "execute_result"
    },
    {
     "data": {
      "image/png": "[encoded data removed]",
      "text/plain": [
       "<Figure size 432x288 with 1 Axes>"
      ]
     },
     "metadata": {
      "needs_background": "light"
     },
     "output_type": "display_data"
    }
   ],
   "source": [
    "sns.distplot(hd_nonull['Horse-Height'], color='red')\n",
    "sns.distplot(hd_withmean['Horse-Height'])"
   ]
  },
  {
   "cell_type": "code",
   "execution_count": 45,
   "id": "89b7cc36",
   "metadata": {},
   "outputs": [
    {
     "name": "stderr",
     "output_type": "stream",
     "text": [
      "/Library/Frameworks/Python.framework/Versions/3.10/lib/python3.10/site-packages/seaborn/distributions.py:2619: FutureWarning: `distplot` is a deprecated function and will be removed in a future version. Please adapt your code to use either `displot` (a figure-level function with similar flexibility) or `histplot` (an axes-level function for histograms).\n",
      "  warnings.warn(msg, FutureWarning)\n"
     ]
    },
    {
     "data": {
      "text/plain": [
       "<AxesSubplot:xlabel='Horse-Height', ylabel='Density'>"
      ]
     },
     "execution_count": 45,
     "metadata": {},
     "output_type": "execute_result"
    },
    {
     "data": {
      "image/png": "[encoded data removed]",
      "text/plain": [
       "<Figure size 432x288 with 1 Axes>"
      ]
     },
     "metadata": {
      "needs_background": "light"
     },
     "output_type": "display_data"
    }
   ],
   "source": [
    "sns.distplot(hd_withmean['Horse-Height'])"
   ]
  },
  {
   "cell_type": "code",
   "execution_count": null,
   "id": "435b550d",
   "metadata": {},
   "outputs": [],
   "source": []
  }
 ],
 "metadata": {
  "kernelspec": {
   "display_name": "Python 3 (ipykernel)",
   "language": "python",
   "name": "python3"
  },
  "language_info": {
   "codemirror_mode": {
    "name": "ipython",
    "version": 3
   },
   "file_extension": ".py",
   "mimetype": "text/x-python",
   "name": "python",
   "nbconvert_exporter": "python",
   "pygments_lexer": "ipython3",
   "version": "3.10.8"
  }
 },
 "nbformat": 4,
 "nbformat_minor": 5
}
