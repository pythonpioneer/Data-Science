{
 "cells": [
  {
   "cell_type": "markdown",
   "id": "5f09f10c",
   "metadata": {},
   "source": [
    "# Logistic Regression: regression and clssification both"
   ]
  },
  {
   "cell_type": "markdown",
   "id": "585cf7cb",
   "metadata": {},
   "source": [
    "#### A Logistic Regression model is similar to a Linear Regression model, except that the Logistic Regression utilizes a more sophisticated cost function, which is known as the “Sigmoid function” or “logistic function” instead of a linear function."
   ]
  },
  {
   "cell_type": "code",
   "execution_count": 1,
   "id": "9c1d90ac",
   "metadata": {},
   "outputs": [
    {
     "data": {
      "text/plain": [
       "'/Users/pan/Desktop/proj/Project MLHD/No Null/no-null-horse-details.csv'"
      ]
     },
     "execution_count": 1,
     "metadata": {},
     "output_type": "execute_result"
    }
   ],
   "source": [
    "# importing all liabraries\n",
    "import numpy as np\n",
    "import matplotlib.pyplot as plt\n",
    "import pandas as pd\n",
    "import seaborn as sns\n",
    "import os\n",
    "\n",
    "# path of csv file\n",
    "global _path\n",
    "_path = os.path.dirname(os.getcwd()) + '/No Null/no-null-horse-details.csv'\n",
    "_path"
   ]
  },
  {
   "cell_type": "code",
   "execution_count": 2,
   "id": "61129352",
   "metadata": {},
   "outputs": [
    {
     "data": {
      "text/html": [
       "<div>\n",
       "<style scoped>\n",
       "    .dataframe tbody tr th:only-of-type {\n",
       "        vertical-align: middle;\n",
       "    }\n",
       "\n",
       "    .dataframe tbody tr th {\n",
       "        vertical-align: top;\n",
       "    }\n",
       "\n",
       "    .dataframe thead th {\n",
       "        text-align: right;\n",
       "    }\n",
       "</style>\n",
       "<table border=\"1\" class=\"dataframe\">\n",
       "  <thead>\n",
       "    <tr style=\"text-align: right;\">\n",
       "      <th></th>\n",
       "      <th>Unnamed: 0</th>\n",
       "      <th>Serial no.</th>\n",
       "      <th>Horse id</th>\n",
       "      <th>Horse-Gender</th>\n",
       "      <th>Horse-Height</th>\n",
       "      <th>Horse-Weight</th>\n",
       "      <th>Racer-Horse</th>\n",
       "    </tr>\n",
       "  </thead>\n",
       "  <tbody>\n",
       "    <tr>\n",
       "      <th>0</th>\n",
       "      <td>1</td>\n",
       "      <td>2</td>\n",
       "      <td>H2</td>\n",
       "      <td>F</td>\n",
       "      <td>56.0</td>\n",
       "      <td>522.0</td>\n",
       "      <td>No</td>\n",
       "    </tr>\n",
       "    <tr>\n",
       "      <th>1</th>\n",
       "      <td>6</td>\n",
       "      <td>7</td>\n",
       "      <td>H7</td>\n",
       "      <td>F</td>\n",
       "      <td>68.0</td>\n",
       "      <td>975.0</td>\n",
       "      <td>Yes</td>\n",
       "    </tr>\n",
       "    <tr>\n",
       "      <th>2</th>\n",
       "      <td>9</td>\n",
       "      <td>10</td>\n",
       "      <td>H10</td>\n",
       "      <td>M</td>\n",
       "      <td>65.0</td>\n",
       "      <td>862.0</td>\n",
       "      <td>Yes</td>\n",
       "    </tr>\n",
       "    <tr>\n",
       "      <th>3</th>\n",
       "      <td>14</td>\n",
       "      <td>15</td>\n",
       "      <td>H15</td>\n",
       "      <td>F</td>\n",
       "      <td>57.0</td>\n",
       "      <td>514.0</td>\n",
       "      <td>No</td>\n",
       "    </tr>\n",
       "    <tr>\n",
       "      <th>4</th>\n",
       "      <td>19</td>\n",
       "      <td>20</td>\n",
       "      <td>H20</td>\n",
       "      <td>F</td>\n",
       "      <td>29.0</td>\n",
       "      <td>211.0</td>\n",
       "      <td>Yes</td>\n",
       "    </tr>\n",
       "    <tr>\n",
       "      <th>...</th>\n",
       "      <td>...</td>\n",
       "      <td>...</td>\n",
       "      <td>...</td>\n",
       "      <td>...</td>\n",
       "      <td>...</td>\n",
       "      <td>...</td>\n",
       "      <td>...</td>\n",
       "    </tr>\n",
       "    <tr>\n",
       "      <th>42862</th>\n",
       "      <td>99993</td>\n",
       "      <td>99994</td>\n",
       "      <td>H99994</td>\n",
       "      <td>F</td>\n",
       "      <td>62.0</td>\n",
       "      <td>759.0</td>\n",
       "      <td>Yes</td>\n",
       "    </tr>\n",
       "    <tr>\n",
       "      <th>42863</th>\n",
       "      <td>99994</td>\n",
       "      <td>99995</td>\n",
       "      <td>H99995</td>\n",
       "      <td>F</td>\n",
       "      <td>60.0</td>\n",
       "      <td>612.0</td>\n",
       "      <td>No</td>\n",
       "    </tr>\n",
       "    <tr>\n",
       "      <th>42864</th>\n",
       "      <td>99995</td>\n",
       "      <td>99996</td>\n",
       "      <td>H99996</td>\n",
       "      <td>F</td>\n",
       "      <td>60.0</td>\n",
       "      <td>636.0</td>\n",
       "      <td>No</td>\n",
       "    </tr>\n",
       "    <tr>\n",
       "      <th>42865</th>\n",
       "      <td>99996</td>\n",
       "      <td>99997</td>\n",
       "      <td>H99997</td>\n",
       "      <td>M</td>\n",
       "      <td>53.0</td>\n",
       "      <td>495.0</td>\n",
       "      <td>Yes</td>\n",
       "    </tr>\n",
       "    <tr>\n",
       "      <th>42866</th>\n",
       "      <td>99998</td>\n",
       "      <td>99999</td>\n",
       "      <td>H99999</td>\n",
       "      <td>F</td>\n",
       "      <td>56.0</td>\n",
       "      <td>590.0</td>\n",
       "      <td>No</td>\n",
       "    </tr>\n",
       "  </tbody>\n",
       "</table>\n",
       "<p>42867 rows × 7 columns</p>\n",
       "</div>"
      ],
      "text/plain": [
       "       Unnamed: 0  Serial no. Horse id Horse-Gender  Horse-Height  \\\n",
       "0               1           2       H2            F          56.0   \n",
       "1               6           7       H7            F          68.0   \n",
       "2               9          10      H10            M          65.0   \n",
       "3              14          15      H15            F          57.0   \n",
       "4              19          20      H20            F          29.0   \n",
       "...           ...         ...      ...          ...           ...   \n",
       "42862       99993       99994   H99994            F          62.0   \n",
       "42863       99994       99995   H99995            F          60.0   \n",
       "42864       99995       99996   H99996            F          60.0   \n",
       "42865       99996       99997   H99997            M          53.0   \n",
       "42866       99998       99999   H99999            F          56.0   \n",
       "\n",
       "       Horse-Weight Racer-Horse  \n",
       "0             522.0          No  \n",
       "1             975.0         Yes  \n",
       "2             862.0         Yes  \n",
       "3             514.0          No  \n",
       "4             211.0         Yes  \n",
       "...             ...         ...  \n",
       "42862         759.0         Yes  \n",
       "42863         612.0          No  \n",
       "42864         636.0          No  \n",
       "42865         495.0         Yes  \n",
       "42866         590.0          No  \n",
       "\n",
       "[42867 rows x 7 columns]"
      ]
     },
     "execution_count": 2,
     "metadata": {},
     "output_type": "execute_result"
    }
   ],
   "source": [
    "# now load the dataset using pandas dataframe\n",
    "hd = pd.read_csv(_path)\n",
    "hd"
   ]
  },
  {
   "cell_type": "code",
   "execution_count": 3,
   "id": "6f2ddffb",
   "metadata": {},
   "outputs": [
    {
     "name": "stdout",
     "output_type": "stream",
     "text": [
      "[[56.]\n",
      " [68.]\n",
      " [65.]\n",
      " ...\n",
      " [60.]\n",
      " [53.]\n",
      " [56.]]\n"
     ]
    },
    {
     "data": {
      "text/plain": [
       "array([[522.],\n",
       "       [975.],\n",
       "       [862.],\n",
       "       ...,\n",
       "       [636.],\n",
       "       [495.],\n",
       "       [590.]])"
      ]
     },
     "execution_count": 3,
     "metadata": {},
     "output_type": "execute_result"
    }
   ],
   "source": [
    "# now extracting independent variable\n",
    "X = hd.iloc[:, 4:5].values  # height\n",
    "print(X)\n",
    "y = hd.iloc[:, 5:6].values  # weight\n",
    "y"
   ]
  },
  {
   "cell_type": "markdown",
   "id": "a6924928",
   "metadata": {},
   "source": [
    "#### now visualizing the dataset"
   ]
  },
  {
   "cell_type": "code",
   "execution_count": 4,
   "id": "d92aa57f",
   "metadata": {},
   "outputs": [
    {
     "data": {
      "text/plain": [
       "<AxesSubplot:xlabel='Horse-Height', ylabel='Horse-Weight'>"
      ]
     },
     "execution_count": 4,
     "metadata": {},
     "output_type": "execute_result"
    },
    {
     "data": {
      "image/png": "[encoded data removed]",
      "text/plain": [
       "<Figure size 1296x576 with 1 Axes>"
      ]
     },
     "metadata": {
      "needs_background": "light"
     },
     "output_type": "display_data"
    }
   ],
   "source": [
    "# visualise using barplot\n",
    "plt.subplots(figsize=(18, 8))\n",
    "sns.barplot(x='Horse-Height', y='Horse-Weight', data=hd)"
   ]
  },
  {
   "cell_type": "code",
   "execution_count": 5,
   "id": "4d258852",
   "metadata": {},
   "outputs": [
    {
     "data": {
      "text/plain": [
       "<AxesSubplot:>"
      ]
     },
     "execution_count": 5,
     "metadata": {},
     "output_type": "execute_result"
    },
    {
     "data": {
      "image/png": "[encoded data removed]",
      "text/plain": [
       "<Figure size 1296x576 with 2 Axes>"
      ]
     },
     "metadata": {
      "needs_background": "light"
     },
     "output_type": "display_data"
    }
   ],
   "source": [
    "# visualizing the data using heatmap\n",
    "plt.subplots(figsize=(18, 8))\n",
    "\n",
    "# beacause there is are so many columns but we only want two column\n",
    "heat_data = pd.DataFrame({\n",
    "    'Height': hd['Horse-Height'],\n",
    "    'Weight': hd['Horse-Weight']\n",
    "})\n",
    "sns.heatmap(data=heat_data, vmin=-200, vmax=1200)"
   ]
  },
  {
   "cell_type": "code",
   "execution_count": 6,
   "id": "5059bb8b",
   "metadata": {},
   "outputs": [],
   "source": [
    "# now splitting the dataset into train and test data\n",
    "from sklearn.model_selection import train_test_split\n",
    "\n",
    "X_train, X_test, y_train, y_test = train_test_split(X, y, test_size=1/4, random_state=0)"
   ]
  },
  {
   "cell_type": "code",
   "execution_count": 7,
   "id": "12d6c8ff",
   "metadata": {},
   "outputs": [
    {
     "name": "stderr",
     "output_type": "stream",
     "text": [
      "/Library/Frameworks/Python.framework/Versions/3.10/lib/python3.10/site-packages/sklearn/utils/validation.py:1111: DataConversionWarning: A column-vector y was passed when a 1d array was expected. Please change the shape of y to (n_samples, ), for example using ravel().\n",
      "  y = column_or_1d(y, warn=True)\n",
      "/Library/Frameworks/Python.framework/Versions/3.10/lib/python3.10/site-packages/sklearn/linear_model/_logistic.py:444: ConvergenceWarning: lbfgs failed to converge (status=1):\n",
      "STOP: TOTAL NO. of ITERATIONS REACHED LIMIT.\n",
      "\n",
      "Increase the number of iterations (max_iter) or scale the data as shown in:\n",
      "    https://scikit-learn.org/stable/modules/preprocessing.html\n",
      "Please also refer to the documentation for alternative solver options:\n",
      "    https://scikit-learn.org/stable/modules/linear_model.html#logistic-regression\n",
      "  n_iter_i = _check_optimize_result(\n"
     ]
    },
    {
     "data": {
      "text/html": [
       "<style>#sk-container-id-1 {color: black;background-color: white;}#sk-container-id-1 pre{padding: 0;}#sk-container-id-1 div.sk-toggleable {background-color: white;}#sk-container-id-1 label.sk-toggleable__label {cursor: pointer;display: block;width: 100%;margin-bottom: 0;padding: 0.3em;box-sizing: border-box;text-align: center;}#sk-container-id-1 label.sk-toggleable__label-arrow:before {content: \"▸\";float: left;margin-right: 0.25em;color: #696969;}#sk-container-id-1 label.sk-toggleable__label-arrow:hover:before {color: black;}#sk-container-id-1 div.sk-estimator:hover label.sk-toggleable__label-arrow:before {color: black;}#sk-container-id-1 div.sk-toggleable__content {max-height: 0;max-width: 0;overflow: hidden;text-align: left;background-color: #f0f8ff;}#sk-container-id-1 div.sk-toggleable__content pre {margin: 0.2em;color: black;border-radius: 0.25em;background-color: #f0f8ff;}#sk-container-id-1 input.sk-toggleable__control:checked~div.sk-toggleable__content {max-height: 200px;max-width: 100%;overflow: auto;}#sk-container-id-1 input.sk-toggleable__control:checked~label.sk-toggleable__label-arrow:before {content: \"▾\";}#sk-container-id-1 div.sk-estimator input.sk-toggleable__control:checked~label.sk-toggleable__label {background-color: #d4ebff;}#sk-container-id-1 div.sk-label input.sk-toggleable__control:checked~label.sk-toggleable__label {background-color: #d4ebff;}#sk-container-id-1 input.sk-hidden--visually {border: 0;clip: rect(1px 1px 1px 1px);clip: rect(1px, 1px, 1px, 1px);height: 1px;margin: -1px;overflow: hidden;padding: 0;position: absolute;width: 1px;}#sk-container-id-1 div.sk-estimator {font-family: monospace;background-color: #f0f8ff;border: 1px dotted black;border-radius: 0.25em;box-sizing: border-box;margin-bottom: 0.5em;}#sk-container-id-1 div.sk-estimator:hover {background-color: #d4ebff;}#sk-container-id-1 div.sk-parallel-item::after {content: \"\";width: 100%;border-bottom: 1px solid gray;flex-grow: 1;}#sk-container-id-1 div.sk-label:hover label.sk-toggleable__label {background-color: #d4ebff;}#sk-container-id-1 div.sk-serial::before {content: \"\";position: absolute;border-left: 1px solid gray;box-sizing: border-box;top: 0;bottom: 0;left: 50%;z-index: 0;}#sk-container-id-1 div.sk-serial {display: flex;flex-direction: column;align-items: center;background-color: white;padding-right: 0.2em;padding-left: 0.2em;position: relative;}#sk-container-id-1 div.sk-item {position: relative;z-index: 1;}#sk-container-id-1 div.sk-parallel {display: flex;align-items: stretch;justify-content: center;background-color: white;position: relative;}#sk-container-id-1 div.sk-item::before, #sk-container-id-1 div.sk-parallel-item::before {content: \"\";position: absolute;border-left: 1px solid gray;box-sizing: border-box;top: 0;bottom: 0;left: 50%;z-index: -1;}#sk-container-id-1 div.sk-parallel-item {display: flex;flex-direction: column;z-index: 1;position: relative;background-color: white;}#sk-container-id-1 div.sk-parallel-item:first-child::after {align-self: flex-end;width: 50%;}#sk-container-id-1 div.sk-parallel-item:last-child::after {align-self: flex-start;width: 50%;}#sk-container-id-1 div.sk-parallel-item:only-child::after {width: 0;}#sk-container-id-1 div.sk-dashed-wrapped {border: 1px dashed gray;margin: 0 0.4em 0.5em 0.4em;box-sizing: border-box;padding-bottom: 0.4em;background-color: white;}#sk-container-id-1 div.sk-label label {font-family: monospace;font-weight: bold;display: inline-block;line-height: 1.2em;}#sk-container-id-1 div.sk-label-container {text-align: center;}#sk-container-id-1 div.sk-container {/* jupyter's `normalize.less` sets `[hidden] { display: none; }` but bootstrap.min.css set `[hidden] { display: none !important; }` so we also need the `!important` here to be able to override the default hidden behavior on the sphinx rendered scikit-learn.org. See: https://github.com/scikit-learn/scikit-learn/issues/21755 */display: inline-block !important;position: relative;}#sk-container-id-1 div.sk-text-repr-fallback {display: none;}</style><div id=\"sk-container-id-1\" class=\"sk-top-container\"><div class=\"sk-text-repr-fallback\"><pre>LogisticRegression()</pre><b>In a Jupyter environment, please rerun this cell to show the HTML representation or trust the notebook. <br />On GitHub, the HTML representation is unable to render, please try loading this page with nbviewer.org.</b></div><div class=\"sk-container\" hidden><div class=\"sk-item\"><div class=\"sk-estimator sk-toggleable\"><input class=\"sk-toggleable__control sk-hidden--visually\" id=\"sk-estimator-id-1\" type=\"checkbox\" checked><label for=\"sk-estimator-id-1\" class=\"sk-toggleable__label sk-toggleable__label-arrow\">LogisticRegression</label><div class=\"sk-toggleable__content\"><pre>LogisticRegression()</pre></div></div></div></div></div>"
      ],
      "text/plain": [
       "LogisticRegression()"
      ]
     },
     "execution_count": 7,
     "metadata": {},
     "output_type": "execute_result"
    }
   ],
   "source": [
    "# fitting logistics regression to training dataset\n",
    "from sklearn.linear_model import LogisticRegression\n",
    "\n",
    "model = LogisticRegression()\n",
    "model.fit(X_train, y_train)"
   ]
  },
  {
   "cell_type": "code",
   "execution_count": 8,
   "id": "33f1d2f3",
   "metadata": {},
   "outputs": [
    {
     "data": {
      "text/plain": [
       "array([600., 700., 500., ..., 450., 800., 450.])"
      ]
     },
     "execution_count": 8,
     "metadata": {},
     "output_type": "execute_result"
    }
   ],
   "source": [
    "# here we havce predicted the output\n",
    "y_pred = model.predict(X_test)\n",
    "y_pred"
   ]
  },
  {
   "cell_type": "code",
   "execution_count": 9,
   "id": "df760dc2",
   "metadata": {},
   "outputs": [
    {
     "data": {
      "text/plain": [
       "Text(0, 0.5, 'Horse Weight')"
      ]
     },
     "execution_count": 9,
     "metadata": {},
     "output_type": "execute_result"
    },
    {
     "data": {
      "image/png": "[encoded data removed]",
      "text/plain": [
       "<Figure size 1296x576 with 1 Axes>"
      ]
     },
     "metadata": {
      "needs_background": "light"
     },
     "output_type": "display_data"
    }
   ],
   "source": [
    "# now visulize the training set result\n",
    "plt.subplots(figsize=(18, 8))\n",
    "plt.scatter(X_train, y_train, color='blue')\n",
    "plt.plot(X_train, model.predict(X_train), color='red')\n",
    "plt.title('Height ~ Weight of training set')\n",
    "plt.xlabel('Horse Height')\n",
    "plt.ylabel('Horse Weight')"
   ]
  },
  {
   "cell_type": "code",
   "execution_count": null,
   "id": "12edf4f3",
   "metadata": {},
   "outputs": [],
   "source": []
  }
 ],
 "metadata": {
  "kernelspec": {
   "display_name": "Python 3 (ipykernel)",
   "language": "python",
   "name": "python3"
  },
  "language_info": {
   "codemirror_mode": {
    "name": "ipython",
    "version": 3
   },
   "file_extension": ".py",
   "mimetype": "text/x-python",
   "name": "python",
   "nbconvert_exporter": "python",
   "pygments_lexer": "ipython3",
   "version": "3.10.8"
  }
 },
 "nbformat": 4,
 "nbformat_minor": 5
}
