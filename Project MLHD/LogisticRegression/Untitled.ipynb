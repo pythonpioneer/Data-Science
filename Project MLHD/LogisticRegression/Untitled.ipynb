{
 "cells": [
  {
   "cell_type": "markdown",
   "id": "a9933c7b",
   "metadata": {},
   "source": [
    "# Logistic Regression: regression and clssification both"
   ]
  },
  {
   "cell_type": "markdown",
   "id": "8f4921c1",
   "metadata": {},
   "source": [
    "#### A Logistic Regression model is similar to a Linear Regression model, except that the Logistic Regression utilizes a more sophisticated cost function, which is known as the “Sigmoid function” or “logistic function” instead of a linear function."
   ]
  },
  {
   "cell_type": "code",
   "execution_count": 6,
   "id": "a37c0825",
   "metadata": {},
   "outputs": [
    {
     "data": {
      "text/plain": [
       "'/Users/pan/Desktop/proj/Project MLHD/No Null/no-null-horse-details.csv'"
      ]
     },
     "execution_count": 6,
     "metadata": {},
     "output_type": "execute_result"
    }
   ],
   "source": [
    "# importing all liabraries\n",
    "import numpy as np\n",
    "import matplotlib.pyplot as plt\n",
    "import pandas as pd\n",
    "import seaborn as sns\n",
    "import os\n",
    "\n",
    "# path of csv file\n",
    "global _path\n",
    "_path = os.path.dirname(os.getcwd()) + '/No Null/no-null-horse-details.csv'\n",
    "_path"
   ]
  },
  {
   "cell_type": "code",
   "execution_count": 7,
   "id": "adf0bd15",
   "metadata": {},
   "outputs": [
    {
     "data": {
      "text/html": [
       "<div>\n",
       "<style scoped>\n",
       "    .dataframe tbody tr th:only-of-type {\n",
       "        vertical-align: middle;\n",
       "    }\n",
       "\n",
       "    .dataframe tbody tr th {\n",
       "        vertical-align: top;\n",
       "    }\n",
       "\n",
       "    .dataframe thead th {\n",
       "        text-align: right;\n",
       "    }\n",
       "</style>\n",
       "<table border=\"1\" class=\"dataframe\">\n",
       "  <thead>\n",
       "    <tr style=\"text-align: right;\">\n",
       "      <th></th>\n",
       "      <th>Unnamed: 0</th>\n",
       "      <th>Serial no.</th>\n",
       "      <th>Horse id</th>\n",
       "      <th>Horse-Gender</th>\n",
       "      <th>Horse-Height</th>\n",
       "      <th>Horse-Weight</th>\n",
       "      <th>Racer-Horse</th>\n",
       "    </tr>\n",
       "  </thead>\n",
       "  <tbody>\n",
       "    <tr>\n",
       "      <th>0</th>\n",
       "      <td>1</td>\n",
       "      <td>2</td>\n",
       "      <td>H2</td>\n",
       "      <td>F</td>\n",
       "      <td>56.0</td>\n",
       "      <td>522.0</td>\n",
       "      <td>No</td>\n",
       "    </tr>\n",
       "    <tr>\n",
       "      <th>1</th>\n",
       "      <td>6</td>\n",
       "      <td>7</td>\n",
       "      <td>H7</td>\n",
       "      <td>F</td>\n",
       "      <td>68.0</td>\n",
       "      <td>975.0</td>\n",
       "      <td>Yes</td>\n",
       "    </tr>\n",
       "    <tr>\n",
       "      <th>2</th>\n",
       "      <td>9</td>\n",
       "      <td>10</td>\n",
       "      <td>H10</td>\n",
       "      <td>M</td>\n",
       "      <td>65.0</td>\n",
       "      <td>862.0</td>\n",
       "      <td>Yes</td>\n",
       "    </tr>\n",
       "    <tr>\n",
       "      <th>3</th>\n",
       "      <td>14</td>\n",
       "      <td>15</td>\n",
       "      <td>H15</td>\n",
       "      <td>F</td>\n",
       "      <td>57.0</td>\n",
       "      <td>514.0</td>\n",
       "      <td>No</td>\n",
       "    </tr>\n",
       "    <tr>\n",
       "      <th>4</th>\n",
       "      <td>19</td>\n",
       "      <td>20</td>\n",
       "      <td>H20</td>\n",
       "      <td>F</td>\n",
       "      <td>29.0</td>\n",
       "      <td>211.0</td>\n",
       "      <td>Yes</td>\n",
       "    </tr>\n",
       "    <tr>\n",
       "      <th>...</th>\n",
       "      <td>...</td>\n",
       "      <td>...</td>\n",
       "      <td>...</td>\n",
       "      <td>...</td>\n",
       "      <td>...</td>\n",
       "      <td>...</td>\n",
       "      <td>...</td>\n",
       "    </tr>\n",
       "    <tr>\n",
       "      <th>42862</th>\n",
       "      <td>99993</td>\n",
       "      <td>99994</td>\n",
       "      <td>H99994</td>\n",
       "      <td>F</td>\n",
       "      <td>62.0</td>\n",
       "      <td>759.0</td>\n",
       "      <td>Yes</td>\n",
       "    </tr>\n",
       "    <tr>\n",
       "      <th>42863</th>\n",
       "      <td>99994</td>\n",
       "      <td>99995</td>\n",
       "      <td>H99995</td>\n",
       "      <td>F</td>\n",
       "      <td>60.0</td>\n",
       "      <td>612.0</td>\n",
       "      <td>No</td>\n",
       "    </tr>\n",
       "    <tr>\n",
       "      <th>42864</th>\n",
       "      <td>99995</td>\n",
       "      <td>99996</td>\n",
       "      <td>H99996</td>\n",
       "      <td>F</td>\n",
       "      <td>60.0</td>\n",
       "      <td>636.0</td>\n",
       "      <td>No</td>\n",
       "    </tr>\n",
       "    <tr>\n",
       "      <th>42865</th>\n",
       "      <td>99996</td>\n",
       "      <td>99997</td>\n",
       "      <td>H99997</td>\n",
       "      <td>M</td>\n",
       "      <td>53.0</td>\n",
       "      <td>495.0</td>\n",
       "      <td>Yes</td>\n",
       "    </tr>\n",
       "    <tr>\n",
       "      <th>42866</th>\n",
       "      <td>99998</td>\n",
       "      <td>99999</td>\n",
       "      <td>H99999</td>\n",
       "      <td>F</td>\n",
       "      <td>56.0</td>\n",
       "      <td>590.0</td>\n",
       "      <td>No</td>\n",
       "    </tr>\n",
       "  </tbody>\n",
       "</table>\n",
       "<p>42867 rows × 7 columns</p>\n",
       "</div>"
      ],
      "text/plain": [
       "       Unnamed: 0  Serial no. Horse id Horse-Gender  Horse-Height  \\\n",
       "0               1           2       H2            F          56.0   \n",
       "1               6           7       H7            F          68.0   \n",
       "2               9          10      H10            M          65.0   \n",
       "3              14          15      H15            F          57.0   \n",
       "4              19          20      H20            F          29.0   \n",
       "...           ...         ...      ...          ...           ...   \n",
       "42862       99993       99994   H99994            F          62.0   \n",
       "42863       99994       99995   H99995            F          60.0   \n",
       "42864       99995       99996   H99996            F          60.0   \n",
       "42865       99996       99997   H99997            M          53.0   \n",
       "42866       99998       99999   H99999            F          56.0   \n",
       "\n",
       "       Horse-Weight Racer-Horse  \n",
       "0             522.0          No  \n",
       "1             975.0         Yes  \n",
       "2             862.0         Yes  \n",
       "3             514.0          No  \n",
       "4             211.0         Yes  \n",
       "...             ...         ...  \n",
       "42862         759.0         Yes  \n",
       "42863         612.0          No  \n",
       "42864         636.0          No  \n",
       "42865         495.0         Yes  \n",
       "42866         590.0          No  \n",
       "\n",
       "[42867 rows x 7 columns]"
      ]
     },
     "execution_count": 7,
     "metadata": {},
     "output_type": "execute_result"
    }
   ],
   "source": [
    "# now load the dataset using pandas dataframe\n",
    "hd = pd.read_csv(_path)\n",
    "hd"
   ]
  },
  {
   "cell_type": "code",
   "execution_count": 13,
   "id": "f5a41c8d",
   "metadata": {},
   "outputs": [
    {
     "name": "stdout",
     "output_type": "stream",
     "text": [
      "[[56.]\n",
      " [68.]\n",
      " [65.]\n",
      " ...\n",
      " [60.]\n",
      " [53.]\n",
      " [56.]]\n"
     ]
    },
    {
     "data": {
      "text/plain": [
       "array([[522.],\n",
       "       [975.],\n",
       "       [862.],\n",
       "       ...,\n",
       "       [636.],\n",
       "       [495.],\n",
       "       [590.]])"
      ]
     },
     "execution_count": 13,
     "metadata": {},
     "output_type": "execute_result"
    }
   ],
   "source": [
    "# now extracting independent variable\n",
    "X = hd.iloc[:, 4:5].values  # height\n",
    "print(X)\n",
    "y = hd.iloc[:, 5:6].values  # weight\n",
    "y"
   ]
  },
  {
   "cell_type": "markdown",
   "id": "7726f30c",
   "metadata": {},
   "source": [
    "#### now visualizing the dataset"
   ]
  },
  {
   "cell_type": "code",
   "execution_count": 15,
   "id": "8013d7e8",
   "metadata": {},
   "outputs": [
    {
     "data": {
      "text/plain": [
       "<AxesSubplot:xlabel='Horse-Height', ylabel='Horse-Weight'>"
      ]
     },
     "execution_count": 15,
     "metadata": {},
     "output_type": "execute_result"
    },
    {
     "data": {
      "image/png": "[encoded data removed]",
      "text/plain": [
       "<Figure size 1296x576 with 1 Axes>"
      ]
     },
     "metadata": {
      "needs_background": "light"
     },
     "output_type": "display_data"
    }
   ],
   "source": [
    "# visualise using barplot\n",
    "plt.subplots(figsize=(18, 8))\n",
    "sns.barplot(x='Horse-Height', y='Horse-Weight', data=hd)"
   ]
  },
  {
   "cell_type": "code",
   "execution_count": 20,
   "id": "f400615b",
   "metadata": {},
   "outputs": [
    {
     "data": {
      "text/plain": [
       "<AxesSubplot:>"
      ]
     },
     "execution_count": 20,
     "metadata": {},
     "output_type": "execute_result"
    },
    {
     "data": {
      "image/png": "[encoded data removed]",
      "text/plain": [
       "<Figure size 1296x576 with 2 Axes>"
      ]
     },
     "metadata": {
      "needs_background": "light"
     },
     "output_type": "display_data"
    }
   ],
   "source": [
    "# visualizing the data using heatmap\n",
    "plt.subplots(figsize=(18, 8))\n",
    "\n",
    "# beacause there is are so many columns but we only want two column\n",
    "heat_data = pd.DataFrame({\n",
    "    'Height': hd['Horse-Height'],\n",
    "    'Weight': hd['Horse-Weight']\n",
    "})\n",
    "sns.heat"
   ]
  },
  {
   "cell_type": "code",
   "execution_count": null,
   "id": "2a05ad12",
   "metadata": {},
   "outputs": [],
   "source": []
  }
 ],
 "metadata": {
  "kernelspec": {
   "display_name": "Python 3 (ipykernel)",
   "language": "python",
   "name": "python3"
  },
  "language_info": {
   "codemirror_mode": {
    "name": "ipython",
    "version": 3
   },
   "file_extension": ".py",
   "mimetype": "text/x-python",
   "name": "python",
   "nbconvert_exporter": "python",
   "pygments_lexer": "ipython3",
   "version": "3.10.8"
  }
 },
 "nbformat": 4,
 "nbformat_minor": 5
}
