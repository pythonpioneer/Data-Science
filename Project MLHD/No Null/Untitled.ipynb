{
 "cells": [
  {
   "cell_type": "code",
   "execution_count": 1,
   "id": "918fa539",
   "metadata": {},
   "outputs": [
    {
     "data": {
      "text/plain": [
       "' Here, I am going to remove all null values and\\ngoing to fill null values of some column with central tendency\\n'"
      ]
     },
     "execution_count": 1,
     "metadata": {},
     "output_type": "execute_result"
    }
   ],
   "source": [
    "''' Here, I am going to remove all null values and\n",
    "going to fill null values of some column with central tendency\n",
    "'''"
   ]
  },
  {
   "cell_type": "code",
   "execution_count": 2,
   "id": "ed004810",
   "metadata": {},
   "outputs": [
    {
     "data": {
      "text/plain": [
       "'/Users/pan/Desktop/proj/Project MLHD/horse data/horse-details.csv'"
      ]
     },
     "execution_count": 2,
     "metadata": {},
     "output_type": "execute_result"
    }
   ],
   "source": [
    "import pandas as pd\n",
    "import numpy as np\n",
    "import os\n",
    "global _path\n",
    "_path = os.path.dirname(os.getcwd()) + '/horse data/horse-details.csv'\n",
    "_path"
   ]
  },
  {
   "cell_type": "code",
   "execution_count": 3,
   "id": "172957e9",
   "metadata": {},
   "outputs": [
    {
     "data": {
      "text/html": [
       "<div>\n",
       "<style scoped>\n",
       "    .dataframe tbody tr th:only-of-type {\n",
       "        vertical-align: middle;\n",
       "    }\n",
       "\n",
       "    .dataframe tbody tr th {\n",
       "        vertical-align: top;\n",
       "    }\n",
       "\n",
       "    .dataframe thead th {\n",
       "        text-align: right;\n",
       "    }\n",
       "</style>\n",
       "<table border=\"1\" class=\"dataframe\">\n",
       "  <thead>\n",
       "    <tr style=\"text-align: right;\">\n",
       "      <th></th>\n",
       "      <th>Serial no.</th>\n",
       "      <th>Horse id</th>\n",
       "      <th>Horse-Gender</th>\n",
       "      <th>Horse-Height</th>\n",
       "      <th>Horse-Weight</th>\n",
       "      <th>Racer-Horse</th>\n",
       "    </tr>\n",
       "  </thead>\n",
       "  <tbody>\n",
       "    <tr>\n",
       "      <th>0</th>\n",
       "      <td>1</td>\n",
       "      <td>H1</td>\n",
       "      <td>M</td>\n",
       "      <td>51.0</td>\n",
       "      <td>543.0</td>\n",
       "      <td>Yes</td>\n",
       "    </tr>\n",
       "    <tr>\n",
       "      <th>1</th>\n",
       "      <td>2</td>\n",
       "      <td>H2</td>\n",
       "      <td>M</td>\n",
       "      <td>62.0</td>\n",
       "      <td>482.0</td>\n",
       "      <td>No</td>\n",
       "    </tr>\n",
       "    <tr>\n",
       "      <th>2</th>\n",
       "      <td>3</td>\n",
       "      <td>H3</td>\n",
       "      <td>M</td>\n",
       "      <td>NaN</td>\n",
       "      <td>NaN</td>\n",
       "      <td>No</td>\n",
       "    </tr>\n",
       "    <tr>\n",
       "      <th>3</th>\n",
       "      <td>4</td>\n",
       "      <td>H4</td>\n",
       "      <td>F</td>\n",
       "      <td>NaN</td>\n",
       "      <td>NaN</td>\n",
       "      <td>No</td>\n",
       "    </tr>\n",
       "    <tr>\n",
       "      <th>4</th>\n",
       "      <td>5</td>\n",
       "      <td>H5</td>\n",
       "      <td>F</td>\n",
       "      <td>60.0</td>\n",
       "      <td>731.0</td>\n",
       "      <td>No</td>\n",
       "    </tr>\n",
       "    <tr>\n",
       "      <th>...</th>\n",
       "      <td>...</td>\n",
       "      <td>...</td>\n",
       "      <td>...</td>\n",
       "      <td>...</td>\n",
       "      <td>...</td>\n",
       "      <td>...</td>\n",
       "    </tr>\n",
       "    <tr>\n",
       "      <th>995</th>\n",
       "      <td>996</td>\n",
       "      <td>H996</td>\n",
       "      <td>F</td>\n",
       "      <td>63.0</td>\n",
       "      <td>433.0</td>\n",
       "      <td>No</td>\n",
       "    </tr>\n",
       "    <tr>\n",
       "      <th>996</th>\n",
       "      <td>997</td>\n",
       "      <td>H997</td>\n",
       "      <td>NaN</td>\n",
       "      <td>60.0</td>\n",
       "      <td>355.0</td>\n",
       "      <td>No</td>\n",
       "    </tr>\n",
       "    <tr>\n",
       "      <th>997</th>\n",
       "      <td>998</td>\n",
       "      <td>H998</td>\n",
       "      <td>M</td>\n",
       "      <td>66.0</td>\n",
       "      <td>455.0</td>\n",
       "      <td>Yes</td>\n",
       "    </tr>\n",
       "    <tr>\n",
       "      <th>998</th>\n",
       "      <td>999</td>\n",
       "      <td>H999</td>\n",
       "      <td>F</td>\n",
       "      <td>48.0</td>\n",
       "      <td>769.0</td>\n",
       "      <td>Yes</td>\n",
       "    </tr>\n",
       "    <tr>\n",
       "      <th>999</th>\n",
       "      <td>1000</td>\n",
       "      <td>H1000</td>\n",
       "      <td>F</td>\n",
       "      <td>43.0</td>\n",
       "      <td>804.0</td>\n",
       "      <td>Yes</td>\n",
       "    </tr>\n",
       "  </tbody>\n",
       "</table>\n",
       "<p>1000 rows × 6 columns</p>\n",
       "</div>"
      ],
      "text/plain": [
       "     Serial no. Horse id Horse-Gender  Horse-Height  Horse-Weight Racer-Horse\n",
       "0             1       H1            M          51.0         543.0         Yes\n",
       "1             2       H2            M          62.0         482.0          No\n",
       "2             3       H3            M           NaN           NaN          No\n",
       "3             4       H4            F           NaN           NaN          No\n",
       "4             5       H5            F          60.0         731.0          No\n",
       "..          ...      ...          ...           ...           ...         ...\n",
       "995         996     H996            F          63.0         433.0          No\n",
       "996         997     H997          NaN          60.0         355.0          No\n",
       "997         998     H998            M          66.0         455.0         Yes\n",
       "998         999     H999            F          48.0         769.0         Yes\n",
       "999        1000    H1000            F          43.0         804.0         Yes\n",
       "\n",
       "[1000 rows x 6 columns]"
      ]
     },
     "execution_count": 3,
     "metadata": {},
     "output_type": "execute_result"
    }
   ],
   "source": [
    "# now read our data using pandas\n",
    "hd = pd.read_csv(_path)\n",
    "hdd"
   ]
  },
  {
   "cell_type": "code",
   "execution_count": 9,
   "id": "657a11e9",
   "metadata": {},
   "outputs": [
    {
     "name": "stdout",
     "output_type": "stream",
     "text": [
      "height mean:  54.99655568312285\n"
     ]
    },
    {
     "data": {
      "text/plain": [
       "'weight mean: 551.4936854190586'"
      ]
     },
     "execution_count": 9,
     "metadata": {},
     "output_type": "execute_result"
    }
   ],
   "source": [
    "# now we want to take mean of horse-height and horse weight\n",
    "height_mean = hd.dropna()['Horse-Height'].mean()\n",
    "weight_mean = hd.dropna()['Horse-Weight'].mean()\n",
    "print('height mean: ', height_mean)\n",
    "'weight mean: ' + str(weight_mean)"
   ]
  },
  {
   "cell_type": "code",
   "execution_count": null,
   "id": "de6533f7",
   "metadata": {},
   "outputs": [],
   "source": [
    "# now we "
   ]
  }
 ],
 "metadata": {
  "kernelspec": {
   "display_name": "Python 3 (ipykernel)",
   "language": "python",
   "name": "python3"
  },
  "language_info": {
   "codemirror_mode": {
    "name": "ipython",
    "version": 3
   },
   "file_extension": ".py",
   "mimetype": "text/x-python",
   "name": "python",
   "nbconvert_exporter": "python",
   "pygments_lexer": "ipython3",
   "version": "3.10.8"
  }
 },
 "nbformat": 4,
 "nbformat_minor": 5
}
