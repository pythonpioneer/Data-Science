{
 "cells": [
  {
   "cell_type": "markdown",
   "id": "9bccebe2",
   "metadata": {},
   "source": [
    "## Support Vector Regression (SVR)"
   ]
  },
  {
   "cell_type": "markdown",
   "id": "c28f765e",
   "metadata": {},
   "source": [
    "<ul>\n",
    "<li>Hyperplane:</li>\n",
    "Hyperplanes are decision boundaries that is used to predict the continuous output. The data points on either side of the hyperplane that are closest to the hyperplane are called Support Vectors. These are used to plot the required line that shows the predicted output of the algorithm.\n",
    "<li>Kernel:</li>\n",
    "A kernel is a set of mathematical functions that takes data as input and transform it into the required form. These are generally used for finding a hyperplane in the higher dimensional space.\n",
    "<li>Boundary Lines:</li>\n",
    "These are the two lines that are drawn around the hyperplane at a distance of ε (epsilon). It is used to create a margin between the data points.\n",
    "</ul>"
   ]
  },
  {
   "cell_type": "code",
   "execution_count": 1,
   "id": "56c00e26",
   "metadata": {},
   "outputs": [
    {
     "data": {
      "text/plain": [
       "'/Users/pan/Desktop/proj/Project MLHD/No Null/no-null-horse-details.csv'"
      ]
     },
     "execution_count": 1,
     "metadata": {},
     "output_type": "execute_result"
    }
   ],
   "source": [
    "# importing all needed liabraries\n",
    "import pandas as pd\n",
    "import numpy as np\n",
    "import seaborn as sns\n",
    "import matplotlib.pyplot as plt\n",
    "import os\n",
    "\n",
    "# path of csv file\n",
    "global _path\n",
    "_path = os.path.dirname(os.getcwd()) + '/No Null/no-null-horse-details.csv'\n",
    "_path"
   ]
  },
  {
   "cell_type": "code",
   "execution_count": 2,
   "id": "b7a0fd88",
   "metadata": {},
   "outputs": [
    {
     "data": {
      "text/html": [
       "<div>\n",
       "<style scoped>\n",
       "    .dataframe tbody tr th:only-of-type {\n",
       "        vertical-align: middle;\n",
       "    }\n",
       "\n",
       "    .dataframe tbody tr th {\n",
       "        vertical-align: top;\n",
       "    }\n",
       "\n",
       "    .dataframe thead th {\n",
       "        text-align: right;\n",
       "    }\n",
       "</style>\n",
       "<table border=\"1\" class=\"dataframe\">\n",
       "  <thead>\n",
       "    <tr style=\"text-align: right;\">\n",
       "      <th></th>\n",
       "      <th>Unnamed: 0</th>\n",
       "      <th>Serial no.</th>\n",
       "      <th>Horse id</th>\n",
       "      <th>Horse-Gender</th>\n",
       "      <th>Horse-Height</th>\n",
       "      <th>Horse-Weight</th>\n",
       "      <th>Racer-Horse</th>\n",
       "    </tr>\n",
       "  </thead>\n",
       "  <tbody>\n",
       "    <tr>\n",
       "      <th>0</th>\n",
       "      <td>3</td>\n",
       "      <td>4</td>\n",
       "      <td>H4</td>\n",
       "      <td>M</td>\n",
       "      <td>51.0</td>\n",
       "      <td>409.0</td>\n",
       "      <td>Yes</td>\n",
       "    </tr>\n",
       "    <tr>\n",
       "      <th>1</th>\n",
       "      <td>8</td>\n",
       "      <td>9</td>\n",
       "      <td>H9</td>\n",
       "      <td>F</td>\n",
       "      <td>46.0</td>\n",
       "      <td>389.0</td>\n",
       "      <td>Yes</td>\n",
       "    </tr>\n",
       "    <tr>\n",
       "      <th>2</th>\n",
       "      <td>9</td>\n",
       "      <td>10</td>\n",
       "      <td>H10</td>\n",
       "      <td>M</td>\n",
       "      <td>63.0</td>\n",
       "      <td>731.0</td>\n",
       "      <td>No</td>\n",
       "    </tr>\n",
       "    <tr>\n",
       "      <th>3</th>\n",
       "      <td>22</td>\n",
       "      <td>23</td>\n",
       "      <td>H23</td>\n",
       "      <td>M</td>\n",
       "      <td>72.0</td>\n",
       "      <td>1181.0</td>\n",
       "      <td>No</td>\n",
       "    </tr>\n",
       "    <tr>\n",
       "      <th>4</th>\n",
       "      <td>26</td>\n",
       "      <td>27</td>\n",
       "      <td>H27</td>\n",
       "      <td>F</td>\n",
       "      <td>60.0</td>\n",
       "      <td>607.0</td>\n",
       "      <td>No</td>\n",
       "    </tr>\n",
       "    <tr>\n",
       "      <th>...</th>\n",
       "      <td>...</td>\n",
       "      <td>...</td>\n",
       "      <td>...</td>\n",
       "      <td>...</td>\n",
       "      <td>...</td>\n",
       "      <td>...</td>\n",
       "      <td>...</td>\n",
       "    </tr>\n",
       "    <tr>\n",
       "      <th>42858</th>\n",
       "      <td>99985</td>\n",
       "      <td>99986</td>\n",
       "      <td>H99986</td>\n",
       "      <td>F</td>\n",
       "      <td>47.0</td>\n",
       "      <td>386.0</td>\n",
       "      <td>No</td>\n",
       "    </tr>\n",
       "    <tr>\n",
       "      <th>42859</th>\n",
       "      <td>99986</td>\n",
       "      <td>99987</td>\n",
       "      <td>H99987</td>\n",
       "      <td>F</td>\n",
       "      <td>52.0</td>\n",
       "      <td>444.0</td>\n",
       "      <td>No</td>\n",
       "    </tr>\n",
       "    <tr>\n",
       "      <th>42860</th>\n",
       "      <td>99988</td>\n",
       "      <td>99989</td>\n",
       "      <td>H99989</td>\n",
       "      <td>F</td>\n",
       "      <td>60.0</td>\n",
       "      <td>664.0</td>\n",
       "      <td>Yes</td>\n",
       "    </tr>\n",
       "    <tr>\n",
       "      <th>42861</th>\n",
       "      <td>99994</td>\n",
       "      <td>99995</td>\n",
       "      <td>H99995</td>\n",
       "      <td>F</td>\n",
       "      <td>64.0</td>\n",
       "      <td>811.0</td>\n",
       "      <td>No</td>\n",
       "    </tr>\n",
       "    <tr>\n",
       "      <th>42862</th>\n",
       "      <td>99996</td>\n",
       "      <td>99997</td>\n",
       "      <td>H99997</td>\n",
       "      <td>M</td>\n",
       "      <td>63.0</td>\n",
       "      <td>785.0</td>\n",
       "      <td>No</td>\n",
       "    </tr>\n",
       "  </tbody>\n",
       "</table>\n",
       "<p>42863 rows × 7 columns</p>\n",
       "</div>"
      ],
      "text/plain": [
       "       Unnamed: 0  Serial no. Horse id Horse-Gender  Horse-Height  \\\n",
       "0               3           4       H4            M          51.0   \n",
       "1               8           9       H9            F          46.0   \n",
       "2               9          10      H10            M          63.0   \n",
       "3              22          23      H23            M          72.0   \n",
       "4              26          27      H27            F          60.0   \n",
       "...           ...         ...      ...          ...           ...   \n",
       "42858       99985       99986   H99986            F          47.0   \n",
       "42859       99986       99987   H99987            F          52.0   \n",
       "42860       99988       99989   H99989            F          60.0   \n",
       "42861       99994       99995   H99995            F          64.0   \n",
       "42862       99996       99997   H99997            M          63.0   \n",
       "\n",
       "       Horse-Weight Racer-Horse  \n",
       "0             409.0         Yes  \n",
       "1             389.0         Yes  \n",
       "2             731.0          No  \n",
       "3            1181.0          No  \n",
       "4             607.0          No  \n",
       "...             ...         ...  \n",
       "42858         386.0          No  \n",
       "42859         444.0          No  \n",
       "42860         664.0         Yes  \n",
       "42861         811.0          No  \n",
       "42862         785.0          No  \n",
       "\n",
       "[42863 rows x 7 columns]"
      ]
     },
     "execution_count": 2,
     "metadata": {},
     "output_type": "execute_result"
    }
   ],
   "source": [
    "# now load the dataset using pandas dataframe\n",
    "hd = pd.read_csv(_path)\n",
    "hd"
   ]
  },
  {
   "cell_type": "code",
   "execution_count": 6,
   "id": "9ef8dac0",
   "metadata": {},
   "outputs": [
    {
     "name": "stdout",
     "output_type": "stream",
     "text": [
      "[[51.]\n",
      " [46.]\n",
      " [63.]\n",
      " ...\n",
      " [60.]\n",
      " [64.]\n",
      " [63.]]\n"
     ]
    },
    {
     "data": {
      "text/plain": [
       "array([[409.],\n",
       "       [389.],\n",
       "       [731.],\n",
       "       ...,\n",
       "       [664.],\n",
       "       [811.],\n",
       "       [785.]])"
      ]
     },
     "execution_count": 6,
     "metadata": {},
     "output_type": "execute_result"
    }
   ],
   "source": [
    "# now we need to extract the dependent and independent variables\\\n",
    "X = hd.iloc[:, 4:5].values\n",
    "print(X)\n",
    "y = hd.iloc[:, 5:6].values\n",
    "y"
   ]
  },
  {
   "cell_type": "code",
   "execution_count": 7,
   "id": "ea7315bc",
   "metadata": {},
   "outputs": [],
   "source": [
    "# now split our data into training and testing data\n",
    "from sklearn.model_selection import train_test_split\n",
    "\n",
    "# split our data\n",
    "X_train, X_test, y_train, y_test = train_test_split(X, y, test_size=1/2, random_state=1)"
   ]
  },
  {
   "cell_type": "code",
   "execution_count": null,
   "id": "136741f4",
   "metadata": {},
   "outputs": [],
   "source": [
    "# now, we need o"
   ]
  }
 ],
 "metadata": {
  "kernelspec": {
   "display_name": "Python 3 (ipykernel)",
   "language": "python",
   "name": "python3"
  },
  "language_info": {
   "codemirror_mode": {
    "name": "ipython",
    "version": 3
   },
   "file_extension": ".py",
   "mimetype": "text/x-python",
   "name": "python",
   "nbconvert_exporter": "python",
   "pygments_lexer": "ipython3",
   "version": "3.10.8"
  }
 },
 "nbformat": 4,
 "nbformat_minor": 5
}
