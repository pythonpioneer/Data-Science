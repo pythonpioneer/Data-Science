{
 "cells": [
  {
   "cell_type": "markdown",
   "id": "17a89ad9",
   "metadata": {},
   "source": [
    "## Support Vector Regression (SVR)"
   ]
  },
  {
   "cell_type": "markdown",
   "id": "786b02e8",
   "metadata": {},
   "source": [
    "<ul>\n",
    "<li>Hyperplane:</li>\n",
    "Hyperplanes are decision boundaries that is used to predict the continuous output. The data points on either side of the hyperplane that are closest to the hyperplane are called Support Vectors. These are used to plot the required line that shows the predicted output of the algorithm.\n",
    "<li>Kernel:</li>\n",
    "A kernel is a set of mathematical functions that takes data as input and transform it into the required form. These are generally used for finding a hyperplane in the higher dimensional space.\n",
    "<li>Boundary Lines:</li>\n",
    "These are the two lines that are drawn around the hyperplane at a distance of ε (epsilon). It is used to create a margin between the data points.\n",
    "</ul>"
   ]
  },
  {
   "cell_type": "code",
   "execution_count": 1,
   "id": "129ccfe2",
   "metadata": {},
   "outputs": [
    {
     "data": {
      "text/plain": [
       "'/Users/pan/Desktop/proj/Project MLHD/No Null/no-null-horse-details.csv'"
      ]
     },
     "execution_count": 1,
     "metadata": {},
     "output_type": "execute_result"
    }
   ],
   "source": [
    "# importing all needed liabraries\n",
    "import pandas as pd\n",
    "import numpy as np\n",
    "import seaborn as sns\n",
    "import matplotlib.pyplot as plt\n",
    "import os\n",
    "\n",
    "# path of csv file\n",
    "global _path\n",
    "_path = os.path.dirname(os.getcwd()) + '/No Null/no-null-horse-details.csv'\n",
    "_path"
   ]
  },
  {
   "cell_type": "code",
   "execution_count": 2,
   "id": "19ce803c",
   "metadata": {},
   "outputs": [
    {
     "data": {
      "text/html": [
       "<div>\n",
       "<style scoped>\n",
       "    .dataframe tbody tr th:only-of-type {\n",
       "        vertical-align: middle;\n",
       "    }\n",
       "\n",
       "    .dataframe tbody tr th {\n",
       "        vertical-align: top;\n",
       "    }\n",
       "\n",
       "    .dataframe thead th {\n",
       "        text-align: right;\n",
       "    }\n",
       "</style>\n",
       "<table border=\"1\" class=\"dataframe\">\n",
       "  <thead>\n",
       "    <tr style=\"text-align: right;\">\n",
       "      <th></th>\n",
       "      <th>Unnamed: 0</th>\n",
       "      <th>Serial no.</th>\n",
       "      <th>Horse id</th>\n",
       "      <th>Horse-Gender</th>\n",
       "      <th>Horse-Height</th>\n",
       "      <th>Horse-Weight</th>\n",
       "      <th>Racer-Horse</th>\n",
       "    </tr>\n",
       "  </thead>\n",
       "  <tbody>\n",
       "    <tr>\n",
       "      <th>0</th>\n",
       "      <td>3</td>\n",
       "      <td>4</td>\n",
       "      <td>H4</td>\n",
       "      <td>M</td>\n",
       "      <td>51.0</td>\n",
       "      <td>409.0</td>\n",
       "      <td>Yes</td>\n",
       "    </tr>\n",
       "    <tr>\n",
       "      <th>1</th>\n",
       "      <td>8</td>\n",
       "      <td>9</td>\n",
       "      <td>H9</td>\n",
       "      <td>F</td>\n",
       "      <td>46.0</td>\n",
       "      <td>389.0</td>\n",
       "      <td>Yes</td>\n",
       "    </tr>\n",
       "    <tr>\n",
       "      <th>2</th>\n",
       "      <td>9</td>\n",
       "      <td>10</td>\n",
       "      <td>H10</td>\n",
       "      <td>M</td>\n",
       "      <td>63.0</td>\n",
       "      <td>731.0</td>\n",
       "      <td>No</td>\n",
       "    </tr>\n",
       "    <tr>\n",
       "      <th>3</th>\n",
       "      <td>22</td>\n",
       "      <td>23</td>\n",
       "      <td>H23</td>\n",
       "      <td>M</td>\n",
       "      <td>72.0</td>\n",
       "      <td>1181.0</td>\n",
       "      <td>No</td>\n",
       "    </tr>\n",
       "    <tr>\n",
       "      <th>4</th>\n",
       "      <td>26</td>\n",
       "      <td>27</td>\n",
       "      <td>H27</td>\n",
       "      <td>F</td>\n",
       "      <td>60.0</td>\n",
       "      <td>607.0</td>\n",
       "      <td>No</td>\n",
       "    </tr>\n",
       "    <tr>\n",
       "      <th>...</th>\n",
       "      <td>...</td>\n",
       "      <td>...</td>\n",
       "      <td>...</td>\n",
       "      <td>...</td>\n",
       "      <td>...</td>\n",
       "      <td>...</td>\n",
       "      <td>...</td>\n",
       "    </tr>\n",
       "    <tr>\n",
       "      <th>42858</th>\n",
       "      <td>99985</td>\n",
       "      <td>99986</td>\n",
       "      <td>H99986</td>\n",
       "      <td>F</td>\n",
       "      <td>47.0</td>\n",
       "      <td>386.0</td>\n",
       "      <td>No</td>\n",
       "    </tr>\n",
       "    <tr>\n",
       "      <th>42859</th>\n",
       "      <td>99986</td>\n",
       "      <td>99987</td>\n",
       "      <td>H99987</td>\n",
       "      <td>F</td>\n",
       "      <td>52.0</td>\n",
       "      <td>444.0</td>\n",
       "      <td>No</td>\n",
       "    </tr>\n",
       "    <tr>\n",
       "      <th>42860</th>\n",
       "      <td>99988</td>\n",
       "      <td>99989</td>\n",
       "      <td>H99989</td>\n",
       "      <td>F</td>\n",
       "      <td>60.0</td>\n",
       "      <td>664.0</td>\n",
       "      <td>Yes</td>\n",
       "    </tr>\n",
       "    <tr>\n",
       "      <th>42861</th>\n",
       "      <td>99994</td>\n",
       "      <td>99995</td>\n",
       "      <td>H99995</td>\n",
       "      <td>F</td>\n",
       "      <td>64.0</td>\n",
       "      <td>811.0</td>\n",
       "      <td>No</td>\n",
       "    </tr>\n",
       "    <tr>\n",
       "      <th>42862</th>\n",
       "      <td>99996</td>\n",
       "      <td>99997</td>\n",
       "      <td>H99997</td>\n",
       "      <td>M</td>\n",
       "      <td>63.0</td>\n",
       "      <td>785.0</td>\n",
       "      <td>No</td>\n",
       "    </tr>\n",
       "  </tbody>\n",
       "</table>\n",
       "<p>42863 rows × 7 columns</p>\n",
       "</div>"
      ],
      "text/plain": [
       "       Unnamed: 0  Serial no. Horse id Horse-Gender  Horse-Height  \\\n",
       "0               3           4       H4            M          51.0   \n",
       "1               8           9       H9            F          46.0   \n",
       "2               9          10      H10            M          63.0   \n",
       "3              22          23      H23            M          72.0   \n",
       "4              26          27      H27            F          60.0   \n",
       "...           ...         ...      ...          ...           ...   \n",
       "42858       99985       99986   H99986            F          47.0   \n",
       "42859       99986       99987   H99987            F          52.0   \n",
       "42860       99988       99989   H99989            F          60.0   \n",
       "42861       99994       99995   H99995            F          64.0   \n",
       "42862       99996       99997   H99997            M          63.0   \n",
       "\n",
       "       Horse-Weight Racer-Horse  \n",
       "0             409.0         Yes  \n",
       "1             389.0         Yes  \n",
       "2             731.0          No  \n",
       "3            1181.0          No  \n",
       "4             607.0          No  \n",
       "...             ...         ...  \n",
       "42858         386.0          No  \n",
       "42859         444.0          No  \n",
       "42860         664.0         Yes  \n",
       "42861         811.0          No  \n",
       "42862         785.0          No  \n",
       "\n",
       "[42863 rows x 7 columns]"
      ]
     },
     "execution_count": 2,
     "metadata": {},
     "output_type": "execute_result"
    }
   ],
   "source": [
    "# now load the dataset using pandas dataframe\n",
    "hd = pd.read_csv(_path)\n",
    "hd"
   ]
  },
  {
   "cell_type": "code",
   "execution_count": 3,
   "id": "1f511a19",
   "metadata": {},
   "outputs": [
    {
     "name": "stdout",
     "output_type": "stream",
     "text": [
      "[[51.]\n",
      " [46.]\n",
      " [63.]\n",
      " ...\n",
      " [60.]\n",
      " [64.]\n",
      " [63.]]\n"
     ]
    },
    {
     "data": {
      "text/plain": [
       "array([[409.],\n",
       "       [389.],\n",
       "       [731.],\n",
       "       ...,\n",
       "       [664.],\n",
       "       [811.],\n",
       "       [785.]])"
      ]
     },
     "execution_count": 3,
     "metadata": {},
     "output_type": "execute_result"
    }
   ],
   "source": [
    "# now we need to extract the dependent and independent variables\\\n",
    "X = hd.iloc[:, 4:5].values\n",
    "print(X)\n",
    "y = hd.iloc[:, 5:6].values\n",
    "y"
   ]
  },
  {
   "cell_type": "code",
   "execution_count": 4,
   "id": "34f37b19",
   "metadata": {},
   "outputs": [],
   "source": [
    "# now split our data into training and testing data\n",
    "from sklearn.model_selection import train_test_split\n",
    "\n",
    "# split our data\n",
    "X_train, X_test, y_train, y_test = train_test_split(X, y, test_size=1/2, random_state=1)"
   ]
  },
  {
   "cell_type": "code",
   "execution_count": 5,
   "id": "7eece0a1",
   "metadata": {},
   "outputs": [
    {
     "name": "stderr",
     "output_type": "stream",
     "text": [
      "/Library/Frameworks/Python.framework/Versions/3.10/lib/python3.10/site-packages/sklearn/utils/validation.py:1111: DataConversionWarning: A column-vector y was passed when a 1d array was expected. Please change the shape of y to (n_samples, ), for example using ravel().\n",
      "  y = column_or_1d(y, warn=True)\n"
     ]
    },
    {
     "data": {
      "text/html": [
       "<style>#sk-container-id-1 {color: black;background-color: white;}#sk-container-id-1 pre{padding: 0;}#sk-container-id-1 div.sk-toggleable {background-color: white;}#sk-container-id-1 label.sk-toggleable__label {cursor: pointer;display: block;width: 100%;margin-bottom: 0;padding: 0.3em;box-sizing: border-box;text-align: center;}#sk-container-id-1 label.sk-toggleable__label-arrow:before {content: \"▸\";float: left;margin-right: 0.25em;color: #696969;}#sk-container-id-1 label.sk-toggleable__label-arrow:hover:before {color: black;}#sk-container-id-1 div.sk-estimator:hover label.sk-toggleable__label-arrow:before {color: black;}#sk-container-id-1 div.sk-toggleable__content {max-height: 0;max-width: 0;overflow: hidden;text-align: left;background-color: #f0f8ff;}#sk-container-id-1 div.sk-toggleable__content pre {margin: 0.2em;color: black;border-radius: 0.25em;background-color: #f0f8ff;}#sk-container-id-1 input.sk-toggleable__control:checked~div.sk-toggleable__content {max-height: 200px;max-width: 100%;overflow: auto;}#sk-container-id-1 input.sk-toggleable__control:checked~label.sk-toggleable__label-arrow:before {content: \"▾\";}#sk-container-id-1 div.sk-estimator input.sk-toggleable__control:checked~label.sk-toggleable__label {background-color: #d4ebff;}#sk-container-id-1 div.sk-label input.sk-toggleable__control:checked~label.sk-toggleable__label {background-color: #d4ebff;}#sk-container-id-1 input.sk-hidden--visually {border: 0;clip: rect(1px 1px 1px 1px);clip: rect(1px, 1px, 1px, 1px);height: 1px;margin: -1px;overflow: hidden;padding: 0;position: absolute;width: 1px;}#sk-container-id-1 div.sk-estimator {font-family: monospace;background-color: #f0f8ff;border: 1px dotted black;border-radius: 0.25em;box-sizing: border-box;margin-bottom: 0.5em;}#sk-container-id-1 div.sk-estimator:hover {background-color: #d4ebff;}#sk-container-id-1 div.sk-parallel-item::after {content: \"\";width: 100%;border-bottom: 1px solid gray;flex-grow: 1;}#sk-container-id-1 div.sk-label:hover label.sk-toggleable__label {background-color: #d4ebff;}#sk-container-id-1 div.sk-serial::before {content: \"\";position: absolute;border-left: 1px solid gray;box-sizing: border-box;top: 0;bottom: 0;left: 50%;z-index: 0;}#sk-container-id-1 div.sk-serial {display: flex;flex-direction: column;align-items: center;background-color: white;padding-right: 0.2em;padding-left: 0.2em;position: relative;}#sk-container-id-1 div.sk-item {position: relative;z-index: 1;}#sk-container-id-1 div.sk-parallel {display: flex;align-items: stretch;justify-content: center;background-color: white;position: relative;}#sk-container-id-1 div.sk-item::before, #sk-container-id-1 div.sk-parallel-item::before {content: \"\";position: absolute;border-left: 1px solid gray;box-sizing: border-box;top: 0;bottom: 0;left: 50%;z-index: -1;}#sk-container-id-1 div.sk-parallel-item {display: flex;flex-direction: column;z-index: 1;position: relative;background-color: white;}#sk-container-id-1 div.sk-parallel-item:first-child::after {align-self: flex-end;width: 50%;}#sk-container-id-1 div.sk-parallel-item:last-child::after {align-self: flex-start;width: 50%;}#sk-container-id-1 div.sk-parallel-item:only-child::after {width: 0;}#sk-container-id-1 div.sk-dashed-wrapped {border: 1px dashed gray;margin: 0 0.4em 0.5em 0.4em;box-sizing: border-box;padding-bottom: 0.4em;background-color: white;}#sk-container-id-1 div.sk-label label {font-family: monospace;font-weight: bold;display: inline-block;line-height: 1.2em;}#sk-container-id-1 div.sk-label-container {text-align: center;}#sk-container-id-1 div.sk-container {/* jupyter's `normalize.less` sets `[hidden] { display: none; }` but bootstrap.min.css set `[hidden] { display: none !important; }` so we also need the `!important` here to be able to override the default hidden behavior on the sphinx rendered scikit-learn.org. See: https://github.com/scikit-learn/scikit-learn/issues/21755 */display: inline-block !important;position: relative;}#sk-container-id-1 div.sk-text-repr-fallback {display: none;}</style><div id=\"sk-container-id-1\" class=\"sk-top-container\"><div class=\"sk-text-repr-fallback\"><pre>SVR()</pre><b>In a Jupyter environment, please rerun this cell to show the HTML representation or trust the notebook. <br />On GitHub, the HTML representation is unable to render, please try loading this page with nbviewer.org.</b></div><div class=\"sk-container\" hidden><div class=\"sk-item\"><div class=\"sk-estimator sk-toggleable\"><input class=\"sk-toggleable__control sk-hidden--visually\" id=\"sk-estimator-id-1\" type=\"checkbox\" checked><label for=\"sk-estimator-id-1\" class=\"sk-toggleable__label sk-toggleable__label-arrow\">SVR</label><div class=\"sk-toggleable__content\"><pre>SVR()</pre></div></div></div></div></div>"
      ],
      "text/plain": [
       "SVR()"
      ]
     },
     "execution_count": 5,
     "metadata": {},
     "output_type": "execute_result"
    }
   ],
   "source": [
    "# now, we need to create our model\n",
    "from sklearn.svm import SVR\n",
    "\n",
    "svr = SVR(kernel='rbf')  # kernel{‘linear’, ‘poly’, ‘rbf’, ‘sigmoid’, ‘precomputed’} as default = 'rbf'\n",
    "svr.fit(X_train, y_train)"
   ]
  },
  {
   "cell_type": "code",
   "execution_count": 6,
   "id": "c52271ed",
   "metadata": {},
   "outputs": [
    {
     "data": {
      "text/plain": [
       "array([12577, 14095,  9553, ..., 16865, 11322,  5755])"
      ]
     },
     "execution_count": 6,
     "metadata": {},
     "output_type": "execute_result"
    }
   ],
   "source": [
    "# plotting only best fit line\n",
    "orders = np.argsort(X_train.ravel())\n",
    "orders"
   ]
  },
  {
   "cell_type": "code",
   "execution_count": null,
   "id": "41ecc38d",
   "metadata": {},
   "outputs": [],
   "source": [
    "# now we are going to plot our training set result\n",
    "plt.subplots(figsize=(18, 8))\n",
    "plt.scatter(X_train, y_train, color='blue')\n",
    "plt.plot(X_train[orders], svr.predict(X_train)[orders], color='red')\n",
    "plt.title('Height ~ Weight of training set')\n",
    "plt.xlabel('Horse Height')\n",
    "plt.ylabel('Horse Weight')"
   ]
  },
  {
   "cell_type": "code",
   "execution_count": null,
   "id": "cc0ff4aa",
   "metadata": {},
   "outputs": [],
   "source": [
    "# plotting only best fit line\n",
    "orders = np.argsort(X_test.ravel())\n",
    "y_pred = svr.predict(X_test)\n",
    "y_pred"
   ]
  },
  {
   "cell_type": "code",
   "execution_count": null,
   "id": "c525ad96",
   "metadata": {},
   "outputs": [],
   "source": [
    "# now we are going to plot our testing set result\n",
    "plt.subplots(figsize=(18, 8))\n",
    "plt.scatter(X_test, y_test, color='blue')\n",
    "plt.plot(X_test[orders], y_pred[orders], color='red')\n",
    "plt.title('Height ~ Weight of training set')\n",
    "plt.xlabel('Horse Height')\n",
    "plt.ylabel('Horse Weight')"
   ]
  },
  {
   "cell_type": "code",
   "execution_count": null,
   "id": "761c902b",
   "metadata": {},
   "outputs": [],
   "source": [
    "# now calculate the residuals\n",
    "from sklearn import metrics\n",
    "\n",
    "print('MAE: ', metrics.mean_absolute_error(y_test, y_pred))\n",
    "print('MSE: ', metrics.mean_squared_error(y_test, y_pred))\n",
    "print('RMSE: ', np.sqrt(metrics.mean_squared_error(y_test, y_pred)))"
   ]
  },
  {
   "cell_type": "code",
   "execution_count": null,
   "id": "e2706763",
   "metadata": {},
   "outputs": [],
   "source": []
  }
 ],
 "metadata": {
  "kernelspec": {
   "display_name": "Python 3 (ipykernel)",
   "language": "python",
   "name": "python3"
  },
  "language_info": {
   "codemirror_mode": {
    "name": "ipython",
    "version": 3
   },
   "file_extension": ".py",
   "mimetype": "text/x-python",
   "name": "python",
   "nbconvert_exporter": "python",
   "pygments_lexer": "ipython3",
   "version": "3.10.8"
  }
 },
 "nbformat": 4,
 "nbformat_minor": 5
}
