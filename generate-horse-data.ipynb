{
 "cells": [
  {
   "cell_type": "markdown",
   "id": "2545eaea",
   "metadata": {},
   "source": [
    "<ul style=\"list-style-type:square;\">\n",
    "<li>Create a dataset</li>\n",
    "<li>write the data into some csv file</li>\n",
    "<li>read the data from csv file</li>\n",
    "<li>remove or fill the null values of data set</li>\n",
    "<li>now plot the data</li>\n",
    "</ul>"
   ]
  },
  {
   "cell_type": "code",
   "execution_count": 1,
   "id": "823821a8",
   "metadata": {},
   "outputs": [],
   "source": [
    "# importing libraries\n",
    "import pandas as pd\n",
    "import numpy as np\n",
    "import seaborn as sns\n",
    "import matplotlib.pyplot as mp\n",
    "import random\n",
    "global _total\n",
    "_total = 1000"
   ]
  },
  {
   "cell_type": "code",
   "execution_count": 2,
   "id": "d7536c16",
   "metadata": {},
   "outputs": [
    {
     "data": {
      "text/plain": [
       "1000"
      ]
     },
     "execution_count": 2,
     "metadata": {},
     "output_type": "execute_result"
    }
   ],
   "source": [
    "# now create the list of horse gender\n",
    "horse_gender = []\n",
    "\n",
    "for _ in range(_total):\n",
    "    i = random.randrange(-5, 100)\n",
    "    if i < 0:\n",
    "        horse_gender.append(np.NaN)\n",
    "    elif i % 2 == 0:\n",
    "        horse_gender.append('M')\n",
    "    else: horse_gender.append('F')\n",
    "len(horse_gender)"
   ]
  },
  {
   "cell_type": "code",
   "execution_count": 3,
   "id": "fe4cb9a8",
   "metadata": {},
   "outputs": [
    {
     "data": {
      "text/plain": [
       "1000"
      ]
     },
     "execution_count": 3,
     "metadata": {},
     "output_type": "execute_result"
    }
   ],
   "source": [
    "# crete the list of racer-horse\n",
    "racer_horse = []\n",
    "\n",
    "for _ in range(_total):\n",
    "    i = random.randrange(-1, 100)\n",
    "    if i < 0:\n",
    "        racer_horse.append(np.NaN)\n",
    "    elif i%2 == 0:\n",
    "        racer_horse.append('Yes')\n",
    "    else:\n",
    "        racer_horse.append('No')\n",
    "len(racer_horse)"
   ]
  },
  {
   "cell_type": "code",
   "execution_count": 4,
   "id": "9ea7d7b3",
   "metadata": {},
   "outputs": [
    {
     "data": {
      "text/plain": [
       "' The data is collected from a website \"horse and country\"\\nthat states, horse height does not much depends on their gender,\\nit is mostly depends on their their breed like \\nShetland-pony height = 28 to 42 inches,\\nwhehter other breeds are bigger than this and \\nthey belongs in range of 55 to 65 and 65 to 72 inches max. \\nwebsite link: https://horseandcountry.tv/horse-height-and-weight-guide/\\n'"
      ]
     },
     "execution_count": 4,
     "metadata": {},
     "output_type": "execute_result"
    }
   ],
   "source": [
    "''' The data is collected from a website \"horse and country\"\n",
    "that states, horse height does not much depends on their gender,\n",
    "it is mostly depends on their their breed like \n",
    "Shetland-pony height = 28 to 42 inches,\n",
    "whehter other breeds are bigger than this and \n",
    "they belongs in range of 55 to 65 and 65 to 72 inches max. \n",
    "website link: https://horseandcountry.tv/horse-height-and-weight-guide/\n",
    "'''"
   ]
  },
  {
   "cell_type": "code",
   "execution_count": 5,
   "id": "d51f8951",
   "metadata": {},
   "outputs": [
    {
     "name": "stdout",
     "output_type": "stream",
     "text": [
      "1000\n"
     ]
    },
    {
     "data": {
      "text/plain": [
       "1000"
      ]
     },
     "execution_count": 5,
     "metadata": {},
     "output_type": "execute_result"
    }
   ],
   "source": [
    "# now collect the data of horse weight\n",
    "''' Here i used the previous information to generate the new data of horses\n",
    "the new data of horse is almost accurate\n",
    "0 1 2 3 4 5 6 7 8 9 10 -> 100%\n",
    "2 4 6 8 -> 36.36%\n",
    "0 -> 9.09%\n",
    "6/n(65) -> 1.53%\n",
    "1 3 5 7 9 -> 45.45%\n",
    "From here we can understand, \n",
    "height | my-data | web-data\n",
    "60-70  |  36.36% |   35.42%\n",
    "28-42  |  10.09% |   11.21%\n",
    "71-72  |  01.53% |   01.34%\n",
    "42-60  |  46.25% |   46.63%\n",
    "nan -> 1.53(approx)%\n",
    "'''\n",
    "\n",
    "'''The data is collected from a website \"horse and country\"\n",
    "that states horse weight does not depend on their gender, like height \n",
    "it also depends on the breed of horse. and that varies from\n",
    "horses like pony weight in range of 180 to 300\n",
    "and others 300 to 500, 500 to 900 and 900 to 1200 max in kgs.\n",
    "shire horses weight varies from 700 to 1200 so mostly we try to avoid \n",
    "weight over 1000 kg.\n",
    "\n",
    "height   | my-data  |  web-data\n",
    "300-500  |  36.36%  |   35.42%\n",
    "180-300  |  09.09%  |   11.21%\n",
    "900-1200 |  01.53%  |   01.34%\n",
    "500-900  |  45.25%  |   46.63%\n",
    "nan -> 2(approx)%\n",
    "'''\n",
    "\n",
    "horse_height = []  # inches\n",
    "horse_weight = []  # kgs\n",
    "\n",
    "for _ in range(_total):\n",
    "    i = random.randint(0, 10)\n",
    "    \n",
    "    if i == 0:\n",
    "        horse_height.append(random.randint(28, 42))\n",
    "        horse_weight.append(random.randint(180, 300))\n",
    "    elif i == 6:\n",
    "        j = random.randint(0, 55)\n",
    "        if j == 6:\n",
    "            horse_height.append(random.randint(71, 72))\n",
    "            horse_weight.append(random.randint(900, 1200))\n",
    "        else:\n",
    "            horse_height.append(np.NaN)\n",
    "            horse_weight.append(np.NaN)\n",
    "    elif i % 2 == 0:\n",
    "        horse_height.append(random.randint(60, 70))\n",
    "        horse_weight.append(random.randint(300, 500))\n",
    "    else:\n",
    "        horse_height.append(random.randint(42, 60))\n",
    "        horse_weight.append(random.randint(500, 900))\n",
    "print(len(horse_height))\n",
    "len(horse_weight)"
   ]
  },
  {
   "cell_type": "code",
   "execution_count": 6,
   "id": "cbd8486c",
   "metadata": {},
   "outputs": [
    {
     "data": {
      "text/html": [
       "<div>\n",
       "<style scoped>\n",
       "    .dataframe tbody tr th:only-of-type {\n",
       "        vertical-align: middle;\n",
       "    }\n",
       "\n",
       "    .dataframe tbody tr th {\n",
       "        vertical-align: top;\n",
       "    }\n",
       "\n",
       "    .dataframe thead th {\n",
       "        text-align: right;\n",
       "    }\n",
       "</style>\n",
       "<table border=\"1\" class=\"dataframe\">\n",
       "  <thead>\n",
       "    <tr style=\"text-align: right;\">\n",
       "      <th></th>\n",
       "      <th>Serial no.</th>\n",
       "      <th>Horse id</th>\n",
       "      <th>Horse-Gender</th>\n",
       "      <th>Horse-Height</th>\n",
       "      <th>Horse-Weight</th>\n",
       "      <th>Racer-Horse</th>\n",
       "    </tr>\n",
       "  </thead>\n",
       "  <tbody>\n",
       "    <tr>\n",
       "      <th>0</th>\n",
       "      <td>1</td>\n",
       "      <td>H1</td>\n",
       "      <td>F</td>\n",
       "      <td>66.0</td>\n",
       "      <td>383.0</td>\n",
       "      <td>Yes</td>\n",
       "    </tr>\n",
       "    <tr>\n",
       "      <th>1</th>\n",
       "      <td>2</td>\n",
       "      <td>H2</td>\n",
       "      <td>M</td>\n",
       "      <td>48.0</td>\n",
       "      <td>578.0</td>\n",
       "      <td>No</td>\n",
       "    </tr>\n",
       "    <tr>\n",
       "      <th>2</th>\n",
       "      <td>3</td>\n",
       "      <td>H3</td>\n",
       "      <td>F</td>\n",
       "      <td>70.0</td>\n",
       "      <td>326.0</td>\n",
       "      <td>Yes</td>\n",
       "    </tr>\n",
       "    <tr>\n",
       "      <th>3</th>\n",
       "      <td>4</td>\n",
       "      <td>H4</td>\n",
       "      <td>M</td>\n",
       "      <td>60.0</td>\n",
       "      <td>463.0</td>\n",
       "      <td>Yes</td>\n",
       "    </tr>\n",
       "    <tr>\n",
       "      <th>4</th>\n",
       "      <td>5</td>\n",
       "      <td>H5</td>\n",
       "      <td>F</td>\n",
       "      <td>67.0</td>\n",
       "      <td>395.0</td>\n",
       "      <td>Yes</td>\n",
       "    </tr>\n",
       "    <tr>\n",
       "      <th>...</th>\n",
       "      <td>...</td>\n",
       "      <td>...</td>\n",
       "      <td>...</td>\n",
       "      <td>...</td>\n",
       "      <td>...</td>\n",
       "      <td>...</td>\n",
       "    </tr>\n",
       "    <tr>\n",
       "      <th>995</th>\n",
       "      <td>996</td>\n",
       "      <td>H996</td>\n",
       "      <td>F</td>\n",
       "      <td>46.0</td>\n",
       "      <td>534.0</td>\n",
       "      <td>Yes</td>\n",
       "    </tr>\n",
       "    <tr>\n",
       "      <th>996</th>\n",
       "      <td>997</td>\n",
       "      <td>H997</td>\n",
       "      <td>F</td>\n",
       "      <td>61.0</td>\n",
       "      <td>325.0</td>\n",
       "      <td>No</td>\n",
       "    </tr>\n",
       "    <tr>\n",
       "      <th>997</th>\n",
       "      <td>998</td>\n",
       "      <td>H998</td>\n",
       "      <td>F</td>\n",
       "      <td>56.0</td>\n",
       "      <td>553.0</td>\n",
       "      <td>No</td>\n",
       "    </tr>\n",
       "    <tr>\n",
       "      <th>998</th>\n",
       "      <td>999</td>\n",
       "      <td>H999</td>\n",
       "      <td>F</td>\n",
       "      <td>68.0</td>\n",
       "      <td>349.0</td>\n",
       "      <td>No</td>\n",
       "    </tr>\n",
       "    <tr>\n",
       "      <th>999</th>\n",
       "      <td>1000</td>\n",
       "      <td>H1000</td>\n",
       "      <td>F</td>\n",
       "      <td>52.0</td>\n",
       "      <td>712.0</td>\n",
       "      <td>Yes</td>\n",
       "    </tr>\n",
       "  </tbody>\n",
       "</table>\n",
       "<p>1000 rows × 6 columns</p>\n",
       "</div>"
      ],
      "text/plain": [
       "     Serial no. Horse id Horse-Gender  Horse-Height  Horse-Weight Racer-Horse\n",
       "0             1       H1            F          66.0         383.0         Yes\n",
       "1             2       H2            M          48.0         578.0          No\n",
       "2             3       H3            F          70.0         326.0         Yes\n",
       "3             4       H4            M          60.0         463.0         Yes\n",
       "4             5       H5            F          67.0         395.0         Yes\n",
       "..          ...      ...          ...           ...           ...         ...\n",
       "995         996     H996            F          46.0         534.0         Yes\n",
       "996         997     H997            F          61.0         325.0          No\n",
       "997         998     H998            F          56.0         553.0          No\n",
       "998         999     H999            F          68.0         349.0          No\n",
       "999        1000    H1000            F          52.0         712.0         Yes\n",
       "\n",
       "[1000 rows x 6 columns]"
      ]
     },
     "execution_count": 6,
     "metadata": {},
     "output_type": "execute_result"
    }
   ],
   "source": [
    "# Creating a data frame \n",
    "horse_details = {\n",
    "    'Serial no.': [i+1 for i in range(_total)],\n",
    "    'Horse id': ['H'+str(i+1) for i in range(_total)],\n",
    "    'Horse-Gender': horse_gender,\n",
    "    'Horse-Height': horse_height,\n",
    "    'Horse-Weight': horse_weight,\n",
    "    'Racer-Horse': racer_horse \n",
    "}\n",
    "\n",
    "horse_df = pd.DataFrame(horse_details)\n",
    "horse_df"
   ]
  },
  {
   "cell_type": "code",
   "execution_count": 7,
   "id": "601ea337",
   "metadata": {},
   "outputs": [],
   "source": [
    "# now write this data to a CSV file\n",
    "horse_df.to_csv('horse_details_file.csv')"
   ]
  },
  {
   "cell_type": "code",
   "execution_count": null,
   "id": "e9f9f9a1",
   "metadata": {},
   "outputs": [],
   "source": []
  }
 ],
 "metadata": {
  "kernelspec": {
   "display_name": "Python 3 (ipykernel)",
   "language": "python",
   "name": "python3"
  },
  "language_info": {
   "codemirror_mode": {
    "name": "ipython",
    "version": 3
   },
   "file_extension": ".py",
   "mimetype": "text/x-python",
   "name": "python",
   "nbconvert_exporter": "python",
   "pygments_lexer": "ipython3",
   "version": "3.10.0"
  }
 },
 "nbformat": 4,
 "nbformat_minor": 5
}
